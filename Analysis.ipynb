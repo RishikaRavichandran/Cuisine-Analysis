{
 "cells": [
  {
   "cell_type": "code",
   "execution_count": 9,
   "id": "310dd6d7-eec6-4bbe-ad41-85ff7fd24620",
   "metadata": {
    "scrolled": true
   },
   "outputs": [
    {
     "data": {
      "text/html": [
       "<div>\n",
       "<style scoped>\n",
       "    .dataframe tbody tr th:only-of-type {\n",
       "        vertical-align: middle;\n",
       "    }\n",
       "\n",
       "    .dataframe tbody tr th {\n",
       "        vertical-align: top;\n",
       "    }\n",
       "\n",
       "    .dataframe thead th {\n",
       "        text-align: right;\n",
       "    }\n",
       "</style>\n",
       "<table border=\"1\" class=\"dataframe\">\n",
       "  <thead>\n",
       "    <tr style=\"text-align: right;\">\n",
       "      <th></th>\n",
       "      <th>Restaurant ID</th>\n",
       "      <th>Restaurant Name</th>\n",
       "      <th>Country Code</th>\n",
       "      <th>City</th>\n",
       "      <th>Address</th>\n",
       "      <th>Locality</th>\n",
       "      <th>Locality Verbose</th>\n",
       "      <th>Longitude</th>\n",
       "      <th>Latitude</th>\n",
       "      <th>Cuisines</th>\n",
       "      <th>...</th>\n",
       "      <th>Currency</th>\n",
       "      <th>Has Table booking</th>\n",
       "      <th>Has Online delivery</th>\n",
       "      <th>Is delivering now</th>\n",
       "      <th>Switch to order menu</th>\n",
       "      <th>Price range</th>\n",
       "      <th>Aggregate rating</th>\n",
       "      <th>Rating color</th>\n",
       "      <th>Rating text</th>\n",
       "      <th>Votes</th>\n",
       "    </tr>\n",
       "  </thead>\n",
       "  <tbody>\n",
       "    <tr>\n",
       "      <th>0</th>\n",
       "      <td>6317637</td>\n",
       "      <td>Le Petit Souffle</td>\n",
       "      <td>162</td>\n",
       "      <td>Makati City</td>\n",
       "      <td>Third Floor, Century City Mall, Kalayaan Avenu...</td>\n",
       "      <td>Century City Mall, Poblacion, Makati City</td>\n",
       "      <td>Century City Mall, Poblacion, Makati City, Mak...</td>\n",
       "      <td>121.027535</td>\n",
       "      <td>14.565443</td>\n",
       "      <td>French, Japanese, Desserts</td>\n",
       "      <td>...</td>\n",
       "      <td>Botswana Pula(P)</td>\n",
       "      <td>Yes</td>\n",
       "      <td>No</td>\n",
       "      <td>No</td>\n",
       "      <td>No</td>\n",
       "      <td>3</td>\n",
       "      <td>4.8</td>\n",
       "      <td>Dark Green</td>\n",
       "      <td>Excellent</td>\n",
       "      <td>314</td>\n",
       "    </tr>\n",
       "    <tr>\n",
       "      <th>1</th>\n",
       "      <td>6304287</td>\n",
       "      <td>Izakaya Kikufuji</td>\n",
       "      <td>162</td>\n",
       "      <td>Makati City</td>\n",
       "      <td>Little Tokyo, 2277 Chino Roces Avenue, Legaspi...</td>\n",
       "      <td>Little Tokyo, Legaspi Village, Makati City</td>\n",
       "      <td>Little Tokyo, Legaspi Village, Makati City, Ma...</td>\n",
       "      <td>121.014101</td>\n",
       "      <td>14.553708</td>\n",
       "      <td>Japanese</td>\n",
       "      <td>...</td>\n",
       "      <td>Botswana Pula(P)</td>\n",
       "      <td>Yes</td>\n",
       "      <td>No</td>\n",
       "      <td>No</td>\n",
       "      <td>No</td>\n",
       "      <td>3</td>\n",
       "      <td>4.5</td>\n",
       "      <td>Dark Green</td>\n",
       "      <td>Excellent</td>\n",
       "      <td>591</td>\n",
       "    </tr>\n",
       "    <tr>\n",
       "      <th>2</th>\n",
       "      <td>6300002</td>\n",
       "      <td>Heat - Edsa Shangri-La</td>\n",
       "      <td>162</td>\n",
       "      <td>Mandaluyong City</td>\n",
       "      <td>Edsa Shangri-La, 1 Garden Way, Ortigas, Mandal...</td>\n",
       "      <td>Edsa Shangri-La, Ortigas, Mandaluyong City</td>\n",
       "      <td>Edsa Shangri-La, Ortigas, Mandaluyong City, Ma...</td>\n",
       "      <td>121.056831</td>\n",
       "      <td>14.581404</td>\n",
       "      <td>Seafood, Asian, Filipino, Indian</td>\n",
       "      <td>...</td>\n",
       "      <td>Botswana Pula(P)</td>\n",
       "      <td>Yes</td>\n",
       "      <td>No</td>\n",
       "      <td>No</td>\n",
       "      <td>No</td>\n",
       "      <td>4</td>\n",
       "      <td>4.4</td>\n",
       "      <td>Green</td>\n",
       "      <td>Very Good</td>\n",
       "      <td>270</td>\n",
       "    </tr>\n",
       "  </tbody>\n",
       "</table>\n",
       "<p>3 rows × 21 columns</p>\n",
       "</div>"
      ],
      "text/plain": [
       "   Restaurant ID         Restaurant Name  Country Code              City  \\\n",
       "0        6317637        Le Petit Souffle           162       Makati City   \n",
       "1        6304287        Izakaya Kikufuji           162       Makati City   \n",
       "2        6300002  Heat - Edsa Shangri-La           162  Mandaluyong City   \n",
       "\n",
       "                                             Address  \\\n",
       "0  Third Floor, Century City Mall, Kalayaan Avenu...   \n",
       "1  Little Tokyo, 2277 Chino Roces Avenue, Legaspi...   \n",
       "2  Edsa Shangri-La, 1 Garden Way, Ortigas, Mandal...   \n",
       "\n",
       "                                     Locality  \\\n",
       "0   Century City Mall, Poblacion, Makati City   \n",
       "1  Little Tokyo, Legaspi Village, Makati City   \n",
       "2  Edsa Shangri-La, Ortigas, Mandaluyong City   \n",
       "\n",
       "                                    Locality Verbose   Longitude   Latitude  \\\n",
       "0  Century City Mall, Poblacion, Makati City, Mak...  121.027535  14.565443   \n",
       "1  Little Tokyo, Legaspi Village, Makati City, Ma...  121.014101  14.553708   \n",
       "2  Edsa Shangri-La, Ortigas, Mandaluyong City, Ma...  121.056831  14.581404   \n",
       "\n",
       "                           Cuisines  ...          Currency Has Table booking  \\\n",
       "0        French, Japanese, Desserts  ...  Botswana Pula(P)               Yes   \n",
       "1                          Japanese  ...  Botswana Pula(P)               Yes   \n",
       "2  Seafood, Asian, Filipino, Indian  ...  Botswana Pula(P)               Yes   \n",
       "\n",
       "  Has Online delivery Is delivering now Switch to order menu Price range  \\\n",
       "0                  No                No                   No           3   \n",
       "1                  No                No                   No           3   \n",
       "2                  No                No                   No           4   \n",
       "\n",
       "   Aggregate rating  Rating color Rating text Votes  \n",
       "0               4.8    Dark Green   Excellent   314  \n",
       "1               4.5    Dark Green   Excellent   591  \n",
       "2               4.4         Green   Very Good   270  \n",
       "\n",
       "[3 rows x 21 columns]"
      ]
     },
     "execution_count": 9,
     "metadata": {},
     "output_type": "execute_result"
    }
   ],
   "source": [
    "import pandas as pd\n",
    "df=pd.read_csv(\"Dataset.csv\")\n",
    "df.head(3)"
   ]
  },
  {
   "cell_type": "code",
   "execution_count": 31,
   "id": "5ed3b61a-b97f-480d-9b9d-ebcf262ddbeb",
   "metadata": {
    "scrolled": true
   },
   "outputs": [
    {
     "data": {
      "text/plain": [
       "Restaurant ID           0\n",
       "Restaurant Name         0\n",
       "Country Code            0\n",
       "City                    0\n",
       "Address                 0\n",
       "Locality                0\n",
       "Locality Verbose        0\n",
       "Longitude               0\n",
       "Latitude                0\n",
       "Cuisines                9\n",
       "Average Cost for two    0\n",
       "Currency                0\n",
       "Has Table booking       0\n",
       "Has Online delivery     0\n",
       "Is delivering now       0\n",
       "Switch to order menu    0\n",
       "Price range             0\n",
       "Aggregate rating        0\n",
       "Rating color            0\n",
       "Rating text             0\n",
       "Votes                   0\n",
       "dtype: int64"
      ]
     },
     "execution_count": 31,
     "metadata": {},
     "output_type": "execute_result"
    }
   ],
   "source": [
    "df.isnull().sum()"
   ]
  },
  {
   "cell_type": "code",
   "execution_count": 11,
   "id": "1822ef32-9afa-4641-9542-0c9d109c288d",
   "metadata": {},
   "outputs": [
    {
     "data": {
      "text/plain": [
       "(9551, 21)"
      ]
     },
     "execution_count": 11,
     "metadata": {},
     "output_type": "execute_result"
    }
   ],
   "source": [
    "df.shape"
   ]
  },
  {
   "cell_type": "markdown",
   "id": "e34b38e1-41d1-48b6-9657-0332220b0c27",
   "metadata": {},
   "source": [
    "### Level 1"
   ]
  },
  {
   "cell_type": "markdown",
   "id": "22243674-e645-42b6-9a0f-136286ec6404",
   "metadata": {},
   "source": [
    "***TASK 1 Top cuisines***"
   ]
  },
  {
   "cell_type": "code",
   "execution_count": 32,
   "id": "e1a3b5fb-ae90-4ffc-8755-11ed296527e1",
   "metadata": {},
   "outputs": [
    {
     "name": "stdout",
     "output_type": "stream",
     "text": [
      "Top three most common cuisines in the dataset :  \n",
      "1. North Indian\n",
      "2. Chinese\n",
      "3. Fast Food\n"
     ]
    }
   ],
   "source": [
    "#1. Determine the top three most common cuisines in the dataset.\n",
    "no_of_cuisines=df['Cuisines'].str.split(', ').explode().value_counts()\n",
    "top_three_cuisines=no_of_cuisines.head(3).index.to_list()\n",
    "print(\"Top three most common cuisines in the dataset :  \")\n",
    "for i in range(len(top_three_cuisines)):\n",
    "    print(f\"{i+1}. {top_three_cuisines[i]}\")\n"
   ]
  },
  {
   "cell_type": "code",
   "execution_count": 33,
   "id": "687bf2c1-a201-4907-9002-4c95c6dc2fb9",
   "metadata": {},
   "outputs": [
    {
     "name": "stdout",
     "output_type": "stream",
     "text": [
      "Percentage of restaurants that serve each of the top cuisines : \n",
      " Cuisines\n",
      "North Indian    41.461627\n",
      "Chinese         28.635745\n",
      "Fast Food       20.793634\n",
      "Name: count, dtype: float64\n"
     ]
    }
   ],
   "source": [
    "#2. Calculate the percentage of restaurants that serve each of the top cuisines.\n",
    "total_no_of_restaurants = len(df)\n",
    "cuisine_percentages = (no_of_cuisines.head(3) / total_no_of_restaurants) * 100\n",
    "print(\"Percentage of restaurants that serve each of the top cuisines : \\n\", cuisine_percentages)"
   ]
  },
  {
   "cell_type": "markdown",
   "id": "8a1703dd-c5bd-484f-ade0-847514171247",
   "metadata": {},
   "source": [
    "***Task 2 City Analysis***"
   ]
  },
  {
   "cell_type": "code",
   "execution_count": 3,
   "id": "71c4a5c8-dee0-4e79-a6c0-297ffdcbc376",
   "metadata": {},
   "outputs": [
    {
     "name": "stdout",
     "output_type": "stream",
     "text": [
      "The city with the highest number of restaurants in the dataset :  New Delhi\n"
     ]
    }
   ],
   "source": [
    "#1.  Identify the city with the highest number of restaurants in the dataset.\n",
    "no_of_cities=df['City'].value_counts()\n",
    "top_city=no_of_cities.idxmax()\n",
    "print(\"The city with the highest number of restaurants in the dataset : \", top_city)"
   ]
  },
  {
   "cell_type": "code",
   "execution_count": 47,
   "id": "ab50513b-00d1-4294-9ca7-41ef4933a18e",
   "metadata": {
    "scrolled": true
   },
   "outputs": [
    {
     "name": "stdout",
     "output_type": "stream",
     "text": [
      "The average rating for restaurants in each city : \n",
      " City\n",
      "Abu Dhabi          4.300000\n",
      "Agra               3.965000\n",
      "Ahmedabad          4.161905\n",
      "Albany             3.555000\n",
      "Allahabad          3.395000\n",
      "                     ...   \n",
      "Weirton            3.900000\n",
      "Wellington City    4.250000\n",
      "Winchester Bay     3.200000\n",
      "Yorkton            3.300000\n",
      "��stanbul          4.292857\n",
      "Name: Aggregate rating, Length: 141, dtype: float64\n"
     ]
    }
   ],
   "source": [
    "#2. Calculate the average rating for restaurants in each city\n",
    "average_rating = df.groupby(\"City\")['Aggregate rating'].mean()\n",
    "print(\"The average rating for restaurants in each city : \\n\", average_rating)"
   ]
  },
  {
   "cell_type": "code",
   "execution_count": 46,
   "id": "51694c6e-c45e-4c0f-8d3c-70bf08097b1d",
   "metadata": {},
   "outputs": [
    {
     "name": "stdout",
     "output_type": "stream",
     "text": [
      "The city with the highest average rating : Inner City\n"
     ]
    }
   ],
   "source": [
    "#3. Determine the city with the highest average rating.\n",
    "highest_average_rating=average_rating.idxmax()\n",
    "print(f\"The city with the highest average rating : {highest_average_rating}\")"
   ]
  },
  {
   "cell_type": "markdown",
   "id": "168e09b4-8662-49af-bea3-567242b13ff6",
   "metadata": {},
   "source": [
    "***Task 3 : Price Range distribution***"
   ]
  },
  {
   "cell_type": "code",
   "execution_count": 7,
   "id": "56450123-f0d4-43a1-9ffa-2c4c98a7d9cf",
   "metadata": {},
   "outputs": [
    {
     "data": {
      "image/png": "[encoded data removed]",
      "text/plain": [
       "<Figure size 640x480 with 1 Axes>"
      ]
     },
     "metadata": {},
     "output_type": "display_data"
    }
   ],
   "source": [
    "#1. Create a histogram or bar chart to visualise the distribution of price ranges among the restaurants.\n",
    "import matplotlib.pyplot as plt\n",
    "price_range=df['Price range'].value_counts()\n",
    "plt.bar(price_range.index, price_range.values, color = \"black\")\n",
    "plt.xlabel(\"Price range\")\n",
    "plt.ylabel(\"Number of Restaurants\")\n",
    "plt.title(\"Distribution of Price ranges among the Restaurants\")\n",
    "plt.show()"
   ]
  },
  {
   "cell_type": "code",
   "execution_count": 66,
   "id": "79c5f088-835b-4f5b-aa4a-fb93219051b4",
   "metadata": {},
   "outputs": [
    {
     "name": "stdout",
     "output_type": "stream",
     "text": [
      "Percentage of Restaurants in each price range category : \n",
      "\n",
      "1 : 46.53 %\n",
      "2 : 32.59 %\n",
      "3 : 14.74 %\n",
      "4 : 6.14 %\n"
     ]
    }
   ],
   "source": [
    "#2. Calculate the percentage of restaurants in each price range category.\n",
    "percentages=(price_range/len(df))*100\n",
    "print(\"Percentage of Restaurants in each price range category : \\n\")\n",
    "for pr, percent in percentages.items():\n",
    "    print(f\"{pr} : {percent:.2f} %\")"
   ]
  },
  {
   "cell_type": "markdown",
   "id": "96f66f6b-daf1-4338-b34a-86e3643a967f",
   "metadata": {},
   "source": [
    "***Task 4: Online Delivery***"
   ]
  },
  {
   "cell_type": "code",
   "execution_count": 67,
   "id": "fed51e0d-20ac-4518-8dea-92a243a09226",
   "metadata": {},
   "outputs": [
    {
     "name": "stdout",
     "output_type": "stream",
     "text": [
      "Percentage of restaurants that offer online delivery : 25.66 %\n"
     ]
    }
   ],
   "source": [
    "#1. Determine the percentage of restaurants that offer online delivery.\n",
    "online_delivery=df['Has Online delivery'] == 'Yes'\n",
    "online_percent=online_delivery.mean()*100\n",
    "print(f\"Percentage of restaurants that offer online delivery : {online_percent:.2f} %\")"
   ]
  },
  {
   "cell_type": "code",
   "execution_count": 12,
   "id": "d7cc7981-10a2-485f-b1e3-39d9ed3dd037",
   "metadata": {},
   "outputs": [
    {
     "name": "stdout",
     "output_type": "stream",
     "text": [
      "Average ratings of restaurants with and without online delivery : \n",
      "No : 2.47 \n",
      "Yes : 3.25 \n"
     ]
    }
   ],
   "source": [
    "#2. Compare the average ratings of restaurants with and without online delivery.\n",
    "avg_rating_online=df.groupby('Has Online delivery')['Aggregate rating'].mean()\n",
    "print(\"Average ratings of restaurants with and without online delivery : \")\n",
    "for i, j in avg_rating_online.items():\n",
    "    print(f\"{i} : {j:.2f} \")"
   ]
  },
  {
   "cell_type": "markdown",
   "id": "dd9267d1-ded6-4e98-bed5-20e7664d895a",
   "metadata": {},
   "source": [
    "### Level 3"
   ]
  },
  {
   "cell_type": "markdown",
   "id": "64c93c6d-b62c-4503-841d-faffa81234aa",
   "metadata": {},
   "source": [
    "***Task 1: Restaurant Reviews***"
   ]
  },
  {
   "cell_type": "code",
   "execution_count": 75,
   "id": "6aec79be-99af-464d-a2d4-44100472f3c9",
   "metadata": {},
   "outputs": [
    {
     "name": "stdout",
     "output_type": "stream",
     "text": [
      "Most common words in reviews:\n",
      "[('average', 3737), ('good', 3179), ('rated', 2148), ('excellent', 301), ('poor', 186)]\n"
     ]
    }
   ],
   "source": [
    "#1. Analyze the text reviews to identify the most common positive and negative keywords.\n",
    "from sklearn.feature_extraction.text import CountVectorizer\n",
    "reviews = df['Rating text'].dropna()\n",
    "vectorizer = CountVectorizer(stop_words='english')\n",
    "word_count = vectorizer.fit_transform(reviews)\n",
    "sum_words = word_count.sum(axis=0)\n",
    "word_frequency = [(word, sum_words[0, idx]) for word, idx in vectorizer.vocabulary_.items()]\n",
    "word_frequency = sorted(word_frequency, key=lambda x: x[1], reverse=True)\n",
    "print(\"Most common words in reviews:\")\n",
    "print(word_frequency[:10])"
   ]
  },
  {
   "cell_type": "code",
   "execution_count": 82,
   "id": "b2503aee-4e62-4010-ab49-8b08fdb7766f",
   "metadata": {},
   "outputs": [
    {
     "name": "stdout",
     "output_type": "stream",
     "text": [
      "Average review length: 7.021\n",
      "Correlation between length of reviews and rating: -0.4789\n"
     ]
    }
   ],
   "source": [
    "#2. Calculate the average length of reviews and explore if there is a relationship between review length and rating\n",
    "df['Review Length'] = df['Rating text'].dropna().str.len()\n",
    "avg_length = df['Review Length'].mean()\n",
    "correlation = df[['Review Length', 'Aggregate rating']].corr().iloc[0, 1]\n",
    "print(f\"Average review length: {avg_length:.3f}\")\n",
    "print(f\"Correlation between length of reviews and rating: {correlation:.4f}\")"
   ]
  },
  {
   "cell_type": "markdown",
   "id": "5f0d4229-e7dc-48b7-bdc0-011a89734e34",
   "metadata": {},
   "source": [
    "***Task 2 :  Votes Analysis***"
   ]
  },
  {
   "cell_type": "code",
   "execution_count": 5,
   "id": "011ab09f-ea2e-4229-a4ad-ed3e0ddc5940",
   "metadata": {},
   "outputs": [
    {
     "name": "stdout",
     "output_type": "stream",
     "text": [
      "Restaurant with the highest votes : Toit\n",
      "Restaurant with the lowest votes : Cantinho da Gula\n"
     ]
    }
   ],
   "source": [
    "#1. Identify the restaurants with the highest and lowest number of votes\n",
    "highest_no_of_votes= df.loc[df['Votes'].idxmax()]\n",
    "lowest_no_of_votes=df.loc[df['Votes'].idxmin()]\n",
    "print(f\"Restaurant with the highest votes : {highest_no_of_votes['Restaurant Name']}\")\n",
    "print(f\"Restaurant with the lowest votes : {lowest_no_of_votes['Restaurant Name']}\")\n"
   ]
  },
  {
   "cell_type": "code",
   "execution_count": 7,
   "id": "f1d0d3ae-a1bd-4708-9ac8-02a2dbabfc36",
   "metadata": {},
   "outputs": [
    {
     "name": "stdout",
     "output_type": "stream",
     "text": [
      "Correlation between the number of votes and the rating: 0.31\n"
     ]
    }
   ],
   "source": [
    "#2 Analyze if there is a correlation between the number of votes and the rating of a restaurant.\n",
    "correlation_votes= df[['Votes', 'Aggregate rating']].corr().iloc[0, 1]\n",
    "print(f\"Correlation between the number of votes and the rating: {correlation_votes:.2f}\")"
   ]
  },
  {
   "cell_type": "markdown",
   "id": "6885a567-5a61-4fbe-8e8c-165dac67116a",
   "metadata": {},
   "source": [
    "***Task 3 : Price Range vs. Online Delivery and  Table Bookig***n"
   ]
  },
  {
   "cell_type": "code",
   "execution_count": 24,
   "id": "7a225775-fd53-4923-b6f1-f0a2bcfca0fa",
   "metadata": {},
   "outputs": [
    {
     "name": "stdout",
     "output_type": "stream",
     "text": [
      "There is a significant relationship between price range and the Table Booking.\n",
      "There is a significant relationship between price range and the Online Delivery.\n"
     ]
    }
   ],
   "source": [
    "#1. Analyze if there is a relationship between the price range and the availability of online delivery and table booking.\n",
    "from scipy.stats import chi2_contingency\n",
    "\n",
    "df['Has Table booking'] = df['Has Table booking'].str.strip().str.capitalize()\n",
    "df['Has Online delivery'] = df['Has Online delivery'].str.strip().str.capitalize()\n",
    "\n",
    "tb_ct = pd.crosstab(df['Price range'], df['Has Table booking'])\n",
    "od_ct = pd.crosstab(df['Price range'], df['Has Online delivery'])\n",
    "chi2_tb, p_tb, _, _ = chi2_contingency(tb_ct)\n",
    "chi2_od, p_od, _, _ = chi2_contingency(od_ct)\n",
    "if p_tb < 0.05:\n",
    "    print(\"There is a significant relationship between price range and the Table Booking.\")\n",
    "else:\n",
    "    print(\"There is no significant relationship between price range and the Table Booking.\")\n",
    "if p_od < 0.05:\n",
    "    print(\"There is a significant relationship between price range and the Online Delivery.\")\n",
    "else:\n",
    "    print(\"There is no significant relationship between price range and the Online Delivery.\")"
   ]
  },
  {
   "cell_type": "code",
   "execution_count": 25,
   "id": "0a083c59-3117-43b7-924c-c1f146229855",
   "metadata": {},
   "outputs": [
    {
     "name": "stdout",
     "output_type": "stream",
     "text": [
      "\n",
      "Spearman Correlation for Table Booking: 0.4718\n",
      "Spearman Correlation for Online Delivery: 0.1364\n",
      "\n",
      "Insights : \n",
      "Higher-priced restaurants are more likely to offer the Table Booking.\n",
      "Higher-priced restaurants are more likely to offer the Online Delivery.\n"
     ]
    }
   ],
   "source": [
    "#2. Determine if higher-priced restaurants are more likely to offer these services\n",
    "from scipy.stats import spearmanr\n",
    "\n",
    "sp_tb, _ = spearmanr(df['Price range'], df['Has Table booking'].eq('Yes'))\n",
    "sp_od, _ = spearmanr(df['Price range'], df['Has Online delivery'].eq('Yes'))\n",
    "print(f\"\\nSpearman Correlation for Table Booking: {sp_tb:.4f}\")\n",
    "print(f\"Spearman Correlation for Online Delivery: {sp_od:.4f}\")\n",
    "print(\"\\nInsights : \")\n",
    "if sp_tb > 0:\n",
    "    print(\"Higher-priced restaurants are more likely to offer the Table Booking.\")\n",
    "elif sp_tb < 0:\n",
    "    print(\"Lower-priced restaurants are more likely to offer the Table Booking.\")\n",
    "else:\n",
    "    print(\"Service availability does not depend on the price range.\")\n",
    "if sp_od > 0:\n",
    "    print(\"Higher-priced restaurants are more likely to offer the Online Delivery.\")\n",
    "elif sp_od < 0:\n",
    "    print(\"Lower-priced restaurants are more likely to offer the Online Delivery.\")\n",
    "else:\n",
    "    print(\"Service availability does not depend on the price range.\")"
   ]
  },
  {
   "cell_type": "code",
   "execution_count": null,
   "id": "38d3dc66-dffc-4bc8-8d40-445223eea291",
   "metadata": {},
   "outputs": [],
   "source": []
  }
 ],
 "metadata": {
  "kernelspec": {
   "display_name": "Python 3 (ipykernel)",
   "language": "python",
   "name": "python3"
  },
  "language_info": {
   "codemirror_mode": {
    "name": "ipython",
    "version": 3
   },
   "file_extension": ".py",
   "mimetype": "text/x-python",
   "name": "python",
   "nbconvert_exporter": "python",
   "pygments_lexer": "ipython3",
   "version": "3.11.7"
  }
 },
 "nbformat": 4,
 "nbformat_minor": 5
}
